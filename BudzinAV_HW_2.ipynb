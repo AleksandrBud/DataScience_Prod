{
 "cells": [
  {
   "cell_type": "code",
   "execution_count": 1,
   "metadata": {},
   "outputs": [],
   "source": [
    "def mode_5_decorate(function_dec):\n",
    "    def test_2(i_a, i_b):\n",
    "        c = function_dec(i_a, i_b) % 5\n",
    "        print(c)\n",
    "    return test_2\n",
    "\n",
    "@mode_5_decorate\n",
    "def digit_sum(a: float, b: float) -> float:\n",
    "    return a + b"
   ]
  },
  {
   "cell_type": "code",
   "execution_count": 2,
   "metadata": {},
   "outputs": [
    {
     "name": "stdout",
     "output_type": "stream",
     "text": [
      "Input first digit: 6\n",
      "Input second digit: 7\n",
      "3.0\n"
     ]
    }
   ],
   "source": [
    "inp_a = float(input('Input first digit: '))\n",
    "inp_b = float(input('Input second digit: '))\n",
    "digit_sum(inp_a, inp_b)"
   ]
  },
  {
   "cell_type": "markdown",
   "metadata": {},
   "source": [
    "SMOTE и ADASYN создают новые наблюдения при помощи интерполяции. Но наблюдения генерируемые этими двумя методами отличаются.\n",
    "\n",
    "SMOTE в зависимости от того сколько наблюдений нужно сгенерировать для равенства классов\n",
    "генерирует их путем случайного выбора точки на линии k-ближайших соседей, соединяющей наблюдение с ближайшим соседом.\n",
    "\n",
    "ADASYN в свою очередь, основывается на систематическом методе, адаптивно генерирует разные количества данных в соответствии с их распределением."
   ]
  }
 ],
 "metadata": {
  "kernelspec": {
   "display_name": "Python 3",
   "language": "python",
   "name": "python3"
  },
  "language_info": {
   "codemirror_mode": {
    "name": "ipython",
    "version": 3
   },
   "file_extension": ".py",
   "mimetype": "text/x-python",
   "name": "python",
   "nbconvert_exporter": "python",
   "pygments_lexer": "ipython3",
   "version": "3.7.4"
  }
 },
 "nbformat": 4,
 "nbformat_minor": 2
}
